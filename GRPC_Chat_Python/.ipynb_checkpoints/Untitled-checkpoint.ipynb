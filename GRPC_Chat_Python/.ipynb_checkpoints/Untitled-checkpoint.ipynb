{
 "cells": [
  {
   "cell_type": "code",
   "execution_count": 21,
   "id": "cd294c07",
   "metadata": {},
   "outputs": [],
   "source": [
    "import chat_pb2 as chat\n",
    "import chat_pb2_grpc as rpc\n",
    "import grpc\n",
    "import threading\n",
    "from tkinter import *\n",
    "from tkinter import simpledialog"
   ]
  },
  {
   "cell_type": "code",
   "execution_count": 32,
   "id": "e93d18c9",
   "metadata": {},
   "outputs": [
    {
     "name": "stderr",
     "output_type": "stream",
     "text": [
      "Exception in thread Thread-126:\n",
      "Traceback (most recent call last):\n",
      "  File \"C:\\Users\\SALAHEDDINE\\AppData\\Local\\Programs\\Python\\Python39\\lib\\threading.py\", line 973, in _bootstrap_inner\n",
      "    self.run()\n",
      "  File \"C:\\Users\\SALAHEDDINE\\AppData\\Local\\Programs\\Python\\Python39\\lib\\threading.py\", line 910, in run\n",
      "    self._target(*self._args, **self._kwargs)\n",
      "  File \"C:\\Users\\SALAHE~1\\AppData\\Local\\Temp/ipykernel_8052/771509164.py\", line 21, in __listen_for_messages\n",
      "  File \"C:\\Users\\SALAHEDDINE\\AppData\\Local\\Programs\\Python\\Python39\\lib\\site-packages\\grpc\\_channel.py\", line 426, in __next__\n",
      "    return self._next()\n",
      "  File \"C:\\Users\\SALAHEDDINE\\AppData\\Local\\Programs\\Python\\Python39\\lib\\site-packages\\grpc\\_channel.py\", line 809, in _next\n",
      "    raise self\n",
      "grpc._channel._MultiThreadedRendezvous: <_MultiThreadedRendezvous of RPC that terminated with:\n",
      "\tstatus = StatusCode.UNKNOWN\n",
      "\tdetails = \"Exception iterating requests!\"\n",
      "\tdebug_error_string = \"None\"\n",
      ">\n"
     ]
    },
    {
     "name": "stdout",
     "output_type": "stream",
     "text": [
      "<grpc._channel.Channel object at 0x000001C761698A30>\n",
      "2\n",
      "S[amine] hi\n",
      "22\n"
     ]
    }
   ],
   "source": [
    "class Client:\n",
    "\n",
    "    def __init__(self, u: str, window):\n",
    "        # the frame to put ui components on\n",
    "        self.window = window\n",
    "        self.username = u\n",
    "        # create a gRPC channel + stub\n",
    "        channel = grpc.insecure_channel('localhost:9999')\n",
    "        print(channel)\n",
    "        self.conn = rpc.ChatServiceStub(channel)\n",
    "        # create new listening thread for when new message streams come in\n",
    "        threading.Thread(target=self.__listen_for_messages).start()\n",
    "        self.__setup_ui()\n",
    "        self.window.mainloop()\n",
    "\n",
    "    def __listen_for_messages(self):\n",
    "        \"\"\"\n",
    "        This method will be ran in a separate thread as the main/ui thread, because the for-in call is blocking\n",
    "        when waiting for new messages\n",
    "        \"\"\"\n",
    "        for note in self.conn.SendChatMessage(chat.ChatMessageFromServer()):  # this line will wait for new messages from the server!\n",
    "            print(1)\n",
    "            print(\"R[{}] {}\".format(note.sender_username, note.message))  # debugging statement\n",
    "            self.chat_list.insert(END, \"[{}] {}\\n\".format(note.sender_username, note.message))  # add the message to the UI\n",
    "            print(11)\n",
    "            \n",
    "    def send_message(self, event):\n",
    "        \"\"\"\n",
    "        This method is called when user enters something into the textbox\n",
    "        \"\"\"\n",
    "        message = self.entry_message.get()  # retrieve message from the UI\n",
    "        if message !=\"\":\n",
    "            n = chat.ChatMessage(sender_username = self.username,message = message)  # create protobug message (called Note)\n",
    "            self.conn.SendChatMessage(n)  # send the Note to the server\n",
    "            print(\"S[{}] {}\".format(n.sender_username, n.message))  # debugging statement\n",
    "\n",
    "    def __setup_ui(self):\n",
    "        self.chat_list = Text()\n",
    "        self.chat_list.pack(side=TOP)\n",
    "        self.lbl_username = Label(self.window, text=self.username)\n",
    "        self.lbl_username.pack(side=LEFT)\n",
    "        self.entry_message = Entry(self.window, bd=5)\n",
    "        self.entry_message.bind('<Return>', self.send_message)\n",
    "        self.entry_message.focus()\n",
    "        self.entry_message.pack(side=BOTTOM)\n",
    "\n",
    "\n",
    "if __name__ == '__main__':\n",
    "    root = Tk()  # I just used a very simple Tk window for the chat UI, this can be replaced by anything\n",
    "    frame = Frame(root, width=300, height=300)\n",
    "    frame.pack()\n",
    "    root.withdraw()\n",
    "    username = None\n",
    "    while username is None:\n",
    "        # retrieve a username so we can distinguish all the different clients\n",
    "        username = simpledialog.askstring(\"Username\", \"What's your username?\", parent=root)\n",
    "    root.deiconify()  # don't remember why this was needed anymore...\n",
    "    c = Client(username, frame)  # this starts a client and thus a thread which keeps connection to server open"
   ]
  }
 ],
 "metadata": {
  "kernelspec": {
   "display_name": "Python 3 (ipykernel)",
   "language": "python",
   "name": "python3"
  },
  "language_info": {
   "codemirror_mode": {
    "name": "ipython",
    "version": 3
   },
   "file_extension": ".py",
   "mimetype": "text/x-python",
   "name": "python",
   "nbconvert_exporter": "python",
   "pygments_lexer": "ipython3",
   "version": "3.9.7"
  }
 },
 "nbformat": 4,
 "nbformat_minor": 5
}
